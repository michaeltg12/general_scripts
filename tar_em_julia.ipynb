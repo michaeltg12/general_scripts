{
 "cells": [
  {
   "cell_type": "markdown",
   "metadata": {},
   "source": [
    "# Raw File Tar Script\n",
    "This script will tar a list of files for archival. The name of the tar file will be the time stamp of the first file of that day with any cuts specified by the user. "
   ]
  },
  {
   "cell_type": "code",
   "execution_count": 43,
   "metadata": {},
   "outputs": [
    {
     "data": {
      "text/plain": [
       "\"/data/home/giansiracusa/testing_dir/sgpbrs/C1.00/tar/output\""
      ]
     },
     "execution_count": 43,
     "metadata": {},
     "output_type": "execute_result"
    }
   ],
   "source": [
    "tar_dir = \"/data/home/giansiracusa/testing_dir/sgpbrs/C1.00/tar\"\n",
    "output_dir = \"/data/home/giansiracusa/testing_dir/sgpbrs/C1.00/tar/output\"\n"
   ]
  },
  {
   "cell_type": "code",
   "execution_count": 63,
   "metadata": {},
   "outputs": [
    {
     "name": "stdout",
     "output_type": "stream",
     "text": [
      "\tresults:\n",
      "SubString{String}[\"sgpbrsC1.00.20140725.000001.raw.raw.tar\", \"sgpbrsC1.00.20140726.000001.raw.raw.tar\", \"sgpbrsC1.00.20150815.000001.raw.raw.tar\", \"sgpbrsC1.00.20150816.000001.raw.raw.tar\"]\n",
      "\ttype:\n",
      "Array{SubString{String},1}\n"
     ]
    }
   ],
   "source": [
    "# single line expression\n",
    "cwd_files = split(read(pipeline(`ls $tar_dir`, `grep tar`), String))\n",
    "typ = typeof(cwd_files)\n",
    "println(\"\\tresults:\\n$cwd_files\\n\\ttype:\\n$typ\")"
   ]
  },
  {
   "cell_type": "code",
   "execution_count": 14,
   "metadata": {},
   "outputs": [
    {
     "data": {
      "text/plain": [
       "29-element Array{SubString{String},1}:\n",
       " \"extra\"                                                       \n",
       " \"output\"                                                      \n",
       " \"sgpbrsC1.00.20150816.000001.raw.Table213.20150815_230000.raw\"\n",
       " \"sgpbrsC1.00.20150816.000001.raw.Table214.20150815_235900.raw\"\n",
       " \"sgpbrsC1.00.20150816.010001.raw.Table213.20150816_000000.raw\"\n",
       " \"sgpbrsC1.00.20150816.020001.raw.Table213.20150816_010000.raw\"\n",
       " \"sgpbrsC1.00.20150816.030001.raw.Table213.20150816_020000.raw\"\n",
       " \"sgpbrsC1.00.20150816.040001.raw.Table213.20150816_030000.raw\"\n",
       " \"sgpbrsC1.00.20150816.050001.raw.Table213.20150816_040000.raw\"\n",
       " \"sgpbrsC1.00.20150816.060001.raw.Table213.20150816_050000.raw\"\n",
       " \"sgpbrsC1.00.20150816.070001.raw.Table213.20150816_060000.raw\"\n",
       " \"sgpbrsC1.00.20150816.080001.raw.Table213.20150816_070000.raw\"\n",
       " \"sgpbrsC1.00.20150816.090001.raw.Table213.20150816_080000.raw\"\n",
       " ⋮                                                             \n",
       " \"sgpbrsC1.00.20150816.140001.raw.Table213.20150816_130000.raw\"\n",
       " \"sgpbrsC1.00.20150816.150001.raw.Table213.20150816_140000.raw\"\n",
       " \"sgpbrsC1.00.20150816.160001.raw.Table213.20150816_150000.raw\"\n",
       " \"sgpbrsC1.00.20150816.170001.raw.Table213.20150816_160000.raw\"\n",
       " \"sgpbrsC1.00.20150816.180001.raw.Table213.20150816_170000.raw\"\n",
       " \"sgpbrsC1.00.20150816.190001.raw.Table213.20150816_180000.raw\"\n",
       " \"sgpbrsC1.00.20150816.200001.raw.Table213.20150816_190000.raw\"\n",
       " \"sgpbrsC1.00.20150816.210001.raw.Table213.20150816_200000.raw\"\n",
       " \"sgpbrsC1.00.20150816.220001.raw.Table213.20150816_210000.raw\"\n",
       " \"sgpbrsC1.00.20150816.230001.raw.Table213.20150816_220000.raw\"\n",
       " \"tar\"                                                         \n",
       " \"\"                                                            "
      ]
     },
     "execution_count": 14,
     "metadata": {},
     "output_type": "execute_result"
    }
   ],
   "source": [
    "split(cwd_files, \"\\n\")"
   ]
  },
  {
   "cell_type": "code",
   "execution_count": null,
   "metadata": {},
   "outputs": [],
   "source": [
    "\n",
    "cmd = `tar -xvf"
   ]
  }
 ],
 "metadata": {
  "kernelspec": {
   "display_name": "Julia 1.0.0",
   "language": "julia",
   "name": "julia-1.0"
  },
  "language_info": {
   "file_extension": ".jl",
   "mimetype": "application/julia",
   "name": "julia",
   "version": "1.0.0"
  }
 },
 "nbformat": 4,
 "nbformat_minor": 2
}
