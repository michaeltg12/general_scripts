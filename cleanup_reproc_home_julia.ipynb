{
 "cells": [
  {
   "cell_type": "markdown",
   "metadata": {},
   "source": [
    "# Cleanup Reprocessing Directory\n",
    "This is the julia 1.0 script that will cleanup a directory based on DQR. It can be run from anywhere, the only input is the dqr. That variable must be set manually in cell to for the notebook to work.  \n",
    "\n",
    "### DQR tracking tool\n",
    "* [Reprocessing Dashboard](https://task.arm.gov/report/repo/#s/_::D150701.31&_r::_)\n",
    "* Only cleanup tasks that are \"Close completed\" or \"Close canceled\" unless specifically asked to. \n",
    "\n",
    "### ServiceNow\n",
    "* Once the task is cleaned, the user should \"close complete\" the Delete Original Data task on [ServiceNow](https://armcrf.service-now.com/).\n",
    "* [REPO-04.2] Delete Original Data\n",
    "\n",
    "### Todo: \n",
    "* allow for a list of dqrs to be cleaned\n",
    "* query ServiceNow for completion status and loop over all DQR folders in the reproc home directory using subprocess ls call. \n",
    "* test the recursive folder move, it may not work as intended\n"
   ]
  },
  {
   "cell_type": "code",
   "execution_count": 22,
   "metadata": {},
   "outputs": [
    {
     "data": {
      "text/plain": [
       "\"D180827.3\""
      ]
     },
     "execution_count": 22,
     "metadata": {},
     "output_type": "execute_result"
    }
   ],
   "source": [
    "#=\n",
    "This must be set for the rest to work\n",
    "The dqr should be similar to the following form:\n",
    "D123456 | D123456.1 | D123456.12\n",
    "=#\n",
    "dqr = \"D180827.3\" # \"Set DQR# Here.\""
   ]
  },
  {
   "cell_type": "code",
   "execution_count": 23,
   "metadata": {},
   "outputs": [
    {
     "name": "stdout",
     "output_type": "stream",
     "text": [
      "Found directory: /data/project/0021718_1509993009/D180827.3\n",
      "Archiving file: D180827.3.conf\n",
      "Archiving file: env.bash\n",
      "Archiving file: env.csh\n",
      "Found directory: /data/project/0021718_1509993009/D180827.3/archive\n",
      "Found directory: /data/project/0021718_1509993009/D180827.3/collection\n",
      "Found directory: /data/project/0021718_1509993009/D180827.3/collection/sgp\n",
      "Found directory: /data/project/0021718_1509993009/D180827.3/collection/sgp/sgpaosnanosmpsE13.00\n",
      "Found directory: /data/project/0021718_1509993009/D180827.3/conf\n",
      "Found directory: /data/project/0021718_1509993009/D180827.3/datastream\n",
      "Found directory: /data/project/0021718_1509993009/D180827.3/db\n",
      "Found directory: /data/project/0021718_1509993009/D180827.3/file_comparison\n",
      "Found directory: /data/project/0021718_1509993009/D180827.3/file_comparison/raw\n",
      "Found directory: /data/project/0021718_1509993009/D180827.3/file_comparison/raw/sgp\n",
      "Found directory: /data/project/0021718_1509993009/D180827.3/file_comparison/raw/sgp/sgpaosnanosmpsE13.00\n",
      "Found directory: /data/project/0021718_1509993009/D180827.3/file_comparison/tar\n",
      "Found directory: /data/project/0021718_1509993009/D180827.3/file_comparison/tar/sgp\n",
      "Found directory: /data/project/0021718_1509993009/D180827.3/file_comparison/tar/sgp/sgpaosnanosmpsE13.00\n",
      "Found directory: /data/project/0021718_1509993009/D180827.3/health\n",
      "Found directory: /data/project/0021718_1509993009/D180827.3/logs\n",
      "Found directory: /data/project/0021718_1509993009/D180827.3/out\n",
      "Found directory: /data/project/0021718_1509993009/D180827.3/quicklooks\n",
      "Found directory: /data/project/0021718_1509993009/D180827.3/tmp\n",
      "Found directory: /data/project/0021718_1509993009/D180827.3/www\n",
      "REMOVING: /data/project/0021718_1509993009/D180827.3\n",
      "Finished cleaning: /data/project/0021718_1509993009/D180827.3\n"
     ]
    }
   ],
   "source": [
    "# File extensions to archive, inclusive list\n",
    "archive_file_params = [\"ncr_\", \"conf\", \"json\", \".py\", \".ipynb\", \"log\", \".sh\", \".csh\", \".bash\", \".Ingest\"]\n",
    "archive_folder_params = [\"ncr_\", \"script\"]\n",
    "\n",
    "# Get environment variables\n",
    "reproc_home = strip(string(`$(ENV[\"REPROC_HOME\"])`), '`')\n",
    "post_proc = strip(string(`$(ENV[\"POST_PROC\"])`), '`')\n",
    "\n",
    "# Create Directory to clean and archve\n",
    "clean_dir = joinpath(reproc_home, dqr)\n",
    "archive_dir = joinpath(post_proc, dqr, \"auto_archive\")\n",
    "\n",
    "# Create archive directory if it doesn't exist, pass if it does exist\n",
    "mkpath(archive_dir)\n",
    "\n",
    "# Walk the directory and get all directories, subdirectories, and files\n",
    "for (root, dirs, files) in walkdir(clean_dir)\n",
    "    println(\"Found directory: $root\")\n",
    "    for d in dirs\n",
    "        # Recursively copy any directories used for ncreviews TODO test this, it may not work...\n",
    "        for param in archive_folder_params\n",
    "            if occursin(param, d)\n",
    "                println(\"Archiving directory: $d\")\n",
    "                cp(joinpath(root, d), joinpath(archive_dir, d))\n",
    "            end\n",
    "        end\n",
    "    end\n",
    "    for f in files\n",
    "        for param in archive_file_params\n",
    "            if occursin(param, f)\n",
    "                println(\"Archiving file: $f\")\n",
    "                cp(joinpath(root, f), joinpath(archive_dir, f))\n",
    "            end\n",
    "        end\n",
    "    end\n",
    "end\n",
    "\n",
    "println(\"REMOVING: $clean_dir\")\n",
    "rm(clean_dir, force=true, recursive=true)\n",
    "println(\"Finished cleaning: $clean_dir\")"
   ]
  },
  {
   "cell_type": "markdown",
   "metadata": {},
   "source": [
    "## Julia Script Version\n",
    "\n",
    "This is a version of the code that could be a julia script that is run from the command line and supplied with one dqr. The extension for a julia script is .jl and this one should be run with Julia 1.0."
   ]
  },
  {
   "cell_type": "code",
   "execution_count": null,
   "metadata": {},
   "outputs": [],
   "source": [
    "if length(ARGS) < 1\n",
    "    println(\"Please enter a dqr number as the first argument.\")\n",
    "elseif ARGS[1][1] != 'D'\n",
    "    println(\"not a valid dqr number\")\n",
    "else\n",
    "    dqr = ARGS[1]\n",
    "end\n",
    "\n",
    "# File extensions to archive, inclusive list\n",
    "archive_file_params = [\"ncr_\", \"conf\", \"json\", \".py\", \".ipynb\", \"log\", \".sh\", \".csh\", \".bash\", \".Ingest\"]\n",
    "archive_folder_params = [\"ncr_\", \"script\"]\n",
    "\n",
    "# Get environment variables\n",
    "reproc_home = strip(string(`$(ENV[\"REPROC_HOME\"])`), '`')\n",
    "post_proc = strip(string(`$(ENV[\"POST_PROC\"])`), '`')\n",
    "\n",
    "# Create Directory to clean and archve\n",
    "clean_dir = joinpath(reproc_home, dqr)\n",
    "archive_dir = joinpath(post_proc, dqr, \"auto_archive\")\n",
    "\n",
    "# Create archive directory if it doesn't exist, pass if it does exist\n",
    "mkpath(archive_dir)\n",
    "\n",
    "# Walk the directory and get all directories, subdirectories, and files\n",
    "for (root, dirs, files) in walkdir(clean_dir)\n",
    "    println(\"Found directory: $root\")\n",
    "    for d in dirs\n",
    "        # Recursively copy any directories used for ncreviews TODO test this, it may not work...\n",
    "        for param in archive_folder_params\n",
    "            if occursin(param, d)\n",
    "                println(\"Archiving directory: $d\")\n",
    "                cp(joinpath(root, d), joinpath(archive_dir, d))\n",
    "            end\n",
    "        end\n",
    "    end\n",
    "    for f in files\n",
    "        for param in archive_file_params\n",
    "            if occursin(param, f)\n",
    "                println(\"Archiving file: $f\")\n",
    "                cp(joinpath(root, f), joinpath(archive_dir, f))\n",
    "            end\n",
    "        end\n",
    "    end\n",
    "end\n",
    "\n",
    "println(\"REMOVING: $clean_dir\")\n",
    "rm(clean_dir, force=true, recursive=true)\n",
    "println(\"Finished cleaning: $clean_dir\")"
   ]
  }
 ],
 "metadata": {
  "kernelspec": {
   "display_name": "Julia 1.0.0",
   "language": "julia",
   "name": "julia-1.0"
  },
  "language_info": {
   "file_extension": ".jl",
   "mimetype": "application/julia",
   "name": "julia",
   "version": "1.0.0"
  }
 },
 "nbformat": 4,
 "nbformat_minor": 2
}
