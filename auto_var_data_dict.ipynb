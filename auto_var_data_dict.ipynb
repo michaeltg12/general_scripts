{
 "cells": [
  {
   "cell_type": "code",
   "execution_count": null,
   "metadata": {},
   "outputs": [],
   "source": [
    "import pprint\n",
    "pp = pprint.PrettyPrinter(indent=4)\n",
    "\n",
    "import numpy as np\n",
    "import pandas as pd\n",
    "import netCDF4 as nc4\n",
    "import os\n",
    "\n",
    "# General setup that will have to be automated\n",
    "fname = \"twpmetC3.b1.20040629.000000.cdf\"\n",
    "rpath = \"/data/project/0021718_1509993009/D080428.3/datastream/twp/twpmetC3.b1/\"\n",
    "apath = \"/data/archive/twp/twpmetC3.b1/\"\n",
    "\n",
    "# read in Datasets\n",
    "rds = nc4.Dataset(os.path.join(rpath, fname))\n",
    "\n",
    "ads = nc4.Dataset(os.path.join(apath, fname))\n",
    "\n",
    "# List of global attributes to skip because some will change on every run\n",
    "skip = [\"history\", \"input_source\", \"process_version\"]\n",
    "\n",
    "# Compare global attribues for equality\n",
    "for rattr, aattr in zip(ads.ncattrs(), rds.ncattrs()):\n",
    "    if rattr != aattr and rattr not in skip:\n",
    "        dict_entry = {var_name : {\"column\" : num,\"attributes\" : rds[var_name].__dict__,\"notes\":\"Global variable\"}}\n",
    "        print(\"{} = {}\".format(getattr(ads,rattr), getattr(rds,aattr)))\n",
    "\n",
    "for rvar, avar in zip(rds.variables.keys(), ads.variables.keys()):\n",
    "    if not np.array_equal(rds[rvar][:], ads[avar][:]):\n",
    "        print(\"{} != {}\".format(rvar, avar))\n",
    "        dict_entry = {var_name : {\"column\" : num,\"attributes\" : rds[var_name].__dict__,\"notes\":\"General variable\"}}\n",
    "        pp.pprint(dict_entry)\n",
    "        "
   ]
  },
  {
   "cell_type": "code",
   "execution_count": 26,
   "metadata": {},
   "outputs": [],
   "source": [
    "var_name = \"temp_mean\"\n",
    "num = 8\n",
    "var_dictionary = {\"data\": {var_name : {\"column\" : num,\"format\" : type(rds[var_name][0]),\"attributes\" : rds[var_name].__dict__}}}\n",
    "\n",
    "pp.pprint(var_dictionary)\n",
    "\n",
    "\n",
    "var_dictionary[\"data\"][\"another_variable\"] = {\"column\" : 10,\"format\" : str(int),\"attributes\" : rds[\"temp_std\"].__dict__}\n",
    "\n",
    "pp.pprint(var_dictionary)\n",
    "\n",
    "type(eval(input(\"columns to skip = \")))"
   ]
  },
  {
   "cell_type": "code",
   "execution_count": null,
   "metadata": {},
   "outputs": [],
   "source": []
  }
 ],
 "metadata": {
  "kernelspec": {
   "display_name": "Python 3",
   "language": "python",
   "name": "python3"
  },
  "language_info": {
   "codemirror_mode": {
    "name": "ipython",
    "version": 3
   },
   "file_extension": ".py",
   "mimetype": "text/x-python",
   "name": "python",
   "nbconvert_exporter": "python",
   "pygments_lexer": "ipython3",
   "version": "3.6.5"
  }
 },
 "nbformat": 4,
 "nbformat_minor": 2
}
